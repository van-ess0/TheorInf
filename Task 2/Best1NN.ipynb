{
 "cells": [
  {
   "cell_type": "code",
   "execution_count": 12,
   "metadata": {},
   "outputs": [],
   "source": [
    "import numpy as np\n",
    "import pandas as pd\n",
    "from sklearn.neighbors import KNeighborsClassifier\n",
    "from sklearn.model_selection import cross_val_score, StratifiedKFold\n",
    "from sklearn.metrics import accuracy_score, make_scorer\n",
    "from sklearn.preprocessing import StandardScaler\n",
    "from haversine import haversine\n",
    "\n",
    "%matplotlib inline"
   ]
  },
  {
   "cell_type": "code",
   "execution_count": 8,
   "metadata": {},
   "outputs": [],
   "source": [
    "rs = 42"
   ]
  },
  {
   "cell_type": "code",
   "execution_count": 9,
   "metadata": {},
   "outputs": [
    {
     "data": {
      "text/html": [
       "<div>\n",
       "<style scoped>\n",
       "    .dataframe tbody tr th:only-of-type {\n",
       "        vertical-align: middle;\n",
       "    }\n",
       "\n",
       "    .dataframe tbody tr th {\n",
       "        vertical-align: top;\n",
       "    }\n",
       "\n",
       "    .dataframe thead th {\n",
       "        text-align: right;\n",
       "    }\n",
       "</style>\n",
       "<table border=\"1\" class=\"dataframe\">\n",
       "  <thead>\n",
       "    <tr style=\"text-align: right;\">\n",
       "      <th></th>\n",
       "      <th>longitude</th>\n",
       "      <th>latitude</th>\n",
       "      <th>request_ts</th>\n",
       "      <th>trans_ts</th>\n",
       "      <th>label</th>\n",
       "    </tr>\n",
       "  </thead>\n",
       "  <tbody>\n",
       "    <tr>\n",
       "      <th>0</th>\n",
       "      <td>30.295780</td>\n",
       "      <td>59.932167</td>\n",
       "      <td>1511956827</td>\n",
       "      <td>1511956594</td>\n",
       "      <td>NaN</td>\n",
       "    </tr>\n",
       "    <tr>\n",
       "      <th>1</th>\n",
       "      <td>30.219528</td>\n",
       "      <td>59.954617</td>\n",
       "      <td>1511956827</td>\n",
       "      <td>1511956746</td>\n",
       "      <td>NaN</td>\n",
       "    </tr>\n",
       "    <tr>\n",
       "      <th>2</th>\n",
       "      <td>30.409101</td>\n",
       "      <td>59.931679</td>\n",
       "      <td>1511956827</td>\n",
       "      <td>1511956747</td>\n",
       "      <td>NaN</td>\n",
       "    </tr>\n",
       "    <tr>\n",
       "      <th>3</th>\n",
       "      <td>30.293602</td>\n",
       "      <td>59.938892</td>\n",
       "      <td>1511956827</td>\n",
       "      <td>1511956759</td>\n",
       "      <td>?</td>\n",
       "    </tr>\n",
       "    <tr>\n",
       "      <th>4</th>\n",
       "      <td>30.360102</td>\n",
       "      <td>59.931103</td>\n",
       "      <td>1511956827</td>\n",
       "      <td>1511956767</td>\n",
       "      <td>0</td>\n",
       "    </tr>\n",
       "  </tbody>\n",
       "</table>\n",
       "</div>"
      ],
      "text/plain": [
       "   longitude   latitude  request_ts    trans_ts label\n",
       "0  30.295780  59.932167  1511956827  1511956594   NaN\n",
       "1  30.219528  59.954617  1511956827  1511956746   NaN\n",
       "2  30.409101  59.931679  1511956827  1511956747   NaN\n",
       "3  30.293602  59.938892  1511956827  1511956759     ?\n",
       "4  30.360102  59.931103  1511956827  1511956767     0"
      ]
     },
     "execution_count": 9,
     "metadata": {},
     "output_type": "execute_result"
    }
   ],
   "source": [
    "df = pd.read_csv('transport_data.csv', na_values='-')\n",
    "df.head()"
   ]
  },
  {
   "cell_type": "code",
   "execution_count": 13,
   "metadata": {},
   "outputs": [],
   "source": [
    "scale = StandardScaler()\n",
    "# X_nn = df.dropna().loc[df.label!='?'].drop(['request_ts', 'trans_ts', 'label'], axis=1)\n",
    "X_nn = df.dropna().drop_duplicates(['longitude', 'latitude', 'trans_ts', 'label']).loc[df.label != '?'].loc[:, [\n",
    "    'longitude', 'latitude',\n",
    "]]\n",
    "y_nn = df.dropna().drop_duplicates(['longitude', 'latitude', 'trans_ts', 'label']).loc[df.label != '?'].label.astype(int)\n",
    "X_norm_nn = scale.fit_transform(X_nn)"
   ]
  },
  {
   "cell_type": "code",
   "execution_count": 10,
   "metadata": {},
   "outputs": [],
   "source": [
    "kfold = StratifiedKFold(n_splits=5, random_state=rs)"
   ]
  },
  {
   "cell_type": "code",
   "execution_count": 15,
   "metadata": {},
   "outputs": [
    {
     "data": {
      "text/plain": [
       "KNeighborsClassifier(algorithm='auto', leaf_size=30,\n",
       "           metric=<function haversine at 0x7fb2e6969ae8>,\n",
       "           metric_params=None, n_jobs=-1, n_neighbors=1, p=2,\n",
       "           weights='uniform')"
      ]
     },
     "execution_count": 15,
     "metadata": {},
     "output_type": "execute_result"
    }
   ],
   "source": [
    "nn = KNeighborsClassifier(n_neighbors=1, n_jobs=-1, metric=haversine)\n",
    "cv = cross_val_score(nn, X_norm_nn, y=y_nn, scoring=make_scorer(accuracy_score), cv=kfold)\n",
    "nn.fit(X_nn, y_nn)"
   ]
  },
  {
   "cell_type": "code",
   "execution_count": 16,
   "metadata": {},
   "outputs": [
    {
     "data": {
      "text/plain": [
       "0.47064195905732714"
      ]
     },
     "execution_count": 16,
     "metadata": {},
     "output_type": "execute_result"
    }
   ],
   "source": [
    "np.mean(cv)"
   ]
  },
  {
   "cell_type": "code",
   "execution_count": 17,
   "metadata": {},
   "outputs": [
    {
     "name": "stdout",
     "output_type": "stream",
     "text": [
      "<class 'pandas.core.frame.DataFrame'>\n",
      "Int64Index: 12000 entries, 3 to 179067\n",
      "Data columns (total 2 columns):\n",
      "longitude    12000 non-null float64\n",
      "latitude     12000 non-null float64\n",
      "dtypes: float64(2)\n",
      "memory usage: 281.2 KB\n",
      "<class 'pandas.core.frame.DataFrame'>\n",
      "Int64Index: 30333 entries, 4 to 179077\n",
      "Data columns (total 2 columns):\n",
      "longitude    30333 non-null float64\n",
      "latitude     30333 non-null float64\n",
      "dtypes: float64(2)\n",
      "memory usage: 710.9 KB\n"
     ]
    }
   ],
   "source": [
    "test_base = df.dropna().loc[df.label == '?'].loc[:, [\n",
    "    'longitude', 'latitude',\n",
    "#     'req_dayofweek', 'req_hour', 'req_minute',\n",
    "#     'trans_dayofweek', 'trans_hour', 'trans_minute',\n",
    "]]\n",
    "test_base.info()\n",
    "X_nn.info()"
   ]
  },
  {
   "cell_type": "code",
   "execution_count": 18,
   "metadata": {},
   "outputs": [],
   "source": [
    "one_nn_pr = nn.predict(test_base)"
   ]
  },
  {
   "cell_type": "code",
   "execution_count": 19,
   "metadata": {},
   "outputs": [
    {
     "data": {
      "text/plain": [
       "array([1, 1, 1, ..., 1, 1, 0])"
      ]
     },
     "execution_count": 19,
     "metadata": {},
     "output_type": "execute_result"
    }
   ],
   "source": [
    "one_nn_pr"
   ]
  },
  {
   "cell_type": "code",
   "execution_count": null,
   "metadata": {},
   "outputs": [],
   "source": [
    "np.savetxt('data/one_nn.txt', one_nn_pr, fmt='%1i')"
   ]
  }
 ],
 "metadata": {
  "kernelspec": {
   "display_name": "Python 3",
   "language": "python",
   "name": "python3"
  },
  "language_info": {
   "codemirror_mode": {
    "name": "ipython",
    "version": 3
   },
   "file_extension": ".py",
   "mimetype": "text/x-python",
   "name": "python",
   "nbconvert_exporter": "python",
   "pygments_lexer": "ipython3",
   "version": "3.6.3"
  }
 },
 "nbformat": 4,
 "nbformat_minor": 2
}
